{
  "nbformat": 4,
  "nbformat_minor": 0,
  "metadata": {
    "colab": {
      "name": "Igor Matheus Pereira de Azevedo - Prova 1.ipynb",
      "provenance": [],
      "collapsed_sections": []
    },
    "kernelspec": {
      "name": "python3",
      "display_name": "Python 3"
    },
    "language_info": {
      "name": "python"
    }
  },
  "cells": [
    {
      "cell_type": "code",
      "metadata": {
        "id": "qbn8OC1RDxho"
      },
      "source": [
        "!pip install yfinance\n",
        "import yfinance as yf\n",
        "import numpy as np\n",
        "import matplotlib as plt\n",
        "from pandas_datareader import data as wb"
      ],
      "execution_count": null,
      "outputs": []
    },
    {
      "cell_type": "code",
      "metadata": {
        "id": "HbBlnF1vVVEw"
      },
      "source": [
        "magalu = yf.download(\"MGLU3.SA\", start= \"2010-01-01\", end=\"2021-01-01\")"
      ],
      "execution_count": null,
      "outputs": []
    },
    {
      "cell_type": "code",
      "metadata": {
        "colab": {
          "base_uri": "https://localhost:8080/",
          "height": 235
        },
        "id": "Hf93BCETYv_2",
        "outputId": "5f29b91f-c460-4609-f2d6-cc856c8767c8"
      },
      "source": [
        "magalu.head()"
      ],
      "execution_count": null,
      "outputs": [
        {
          "output_type": "execute_result",
          "data": {
            "text/html": [
              "<div>\n",
              "<style scoped>\n",
              "    .dataframe tbody tr th:only-of-type {\n",
              "        vertical-align: middle;\n",
              "    }\n",
              "\n",
              "    .dataframe tbody tr th {\n",
              "        vertical-align: top;\n",
              "    }\n",
              "\n",
              "    .dataframe thead th {\n",
              "        text-align: right;\n",
              "    }\n",
              "</style>\n",
              "<table border=\"1\" class=\"dataframe\">\n",
              "  <thead>\n",
              "    <tr style=\"text-align: right;\">\n",
              "      <th></th>\n",
              "      <th>Open</th>\n",
              "      <th>High</th>\n",
              "      <th>Low</th>\n",
              "      <th>Close</th>\n",
              "      <th>Adj Close</th>\n",
              "      <th>Volume</th>\n",
              "    </tr>\n",
              "    <tr>\n",
              "      <th>Date</th>\n",
              "      <th></th>\n",
              "      <th></th>\n",
              "      <th></th>\n",
              "      <th></th>\n",
              "      <th></th>\n",
              "      <th></th>\n",
              "    </tr>\n",
              "  </thead>\n",
              "  <tbody>\n",
              "    <tr>\n",
              "      <th>2011-05-02</th>\n",
              "      <td>0.503125</td>\n",
              "      <td>0.518750</td>\n",
              "      <td>0.503125</td>\n",
              "      <td>0.514062</td>\n",
              "      <td>0.463173</td>\n",
              "      <td>280003200</td>\n",
              "    </tr>\n",
              "    <tr>\n",
              "      <th>2011-05-03</th>\n",
              "      <td>0.515625</td>\n",
              "      <td>0.521562</td>\n",
              "      <td>0.506250</td>\n",
              "      <td>0.509375</td>\n",
              "      <td>0.458950</td>\n",
              "      <td>33670400</td>\n",
              "    </tr>\n",
              "    <tr>\n",
              "      <th>2011-05-04</th>\n",
              "      <td>0.510000</td>\n",
              "      <td>0.515000</td>\n",
              "      <td>0.510000</td>\n",
              "      <td>0.515000</td>\n",
              "      <td>0.464018</td>\n",
              "      <td>39203200</td>\n",
              "    </tr>\n",
              "    <tr>\n",
              "      <th>2011-05-05</th>\n",
              "      <td>0.512812</td>\n",
              "      <td>0.512812</td>\n",
              "      <td>0.510000</td>\n",
              "      <td>0.511875</td>\n",
              "      <td>0.461202</td>\n",
              "      <td>35097600</td>\n",
              "    </tr>\n",
              "    <tr>\n",
              "      <th>2011-05-06</th>\n",
              "      <td>0.510937</td>\n",
              "      <td>0.511875</td>\n",
              "      <td>0.500000</td>\n",
              "      <td>0.508125</td>\n",
              "      <td>0.457824</td>\n",
              "      <td>38672000</td>\n",
              "    </tr>\n",
              "  </tbody>\n",
              "</table>\n",
              "</div>"
            ],
            "text/plain": [
              "                Open      High       Low     Close  Adj Close     Volume\n",
              "Date                                                                    \n",
              "2011-05-02  0.503125  0.518750  0.503125  0.514062   0.463173  280003200\n",
              "2011-05-03  0.515625  0.521562  0.506250  0.509375   0.458950   33670400\n",
              "2011-05-04  0.510000  0.515000  0.510000  0.515000   0.464018   39203200\n",
              "2011-05-05  0.512812  0.512812  0.510000  0.511875   0.461202   35097600\n",
              "2011-05-06  0.510937  0.511875  0.500000  0.508125   0.457824   38672000"
            ]
          },
          "metadata": {
            "tags": []
          },
          "execution_count": 4
        }
      ]
    },
    {
      "cell_type": "code",
      "metadata": {
        "colab": {
          "base_uri": "https://localhost:8080/",
          "height": 235
        },
        "id": "tleTtOWXY5dy",
        "outputId": "8b308df2-2a85-4e5d-bcfb-cab8ce24c185"
      },
      "source": [
        "magalu.tail()"
      ],
      "execution_count": null,
      "outputs": [
        {
          "output_type": "execute_result",
          "data": {
            "text/html": [
              "<div>\n",
              "<style scoped>\n",
              "    .dataframe tbody tr th:only-of-type {\n",
              "        vertical-align: middle;\n",
              "    }\n",
              "\n",
              "    .dataframe tbody tr th {\n",
              "        vertical-align: top;\n",
              "    }\n",
              "\n",
              "    .dataframe thead th {\n",
              "        text-align: right;\n",
              "    }\n",
              "</style>\n",
              "<table border=\"1\" class=\"dataframe\">\n",
              "  <thead>\n",
              "    <tr style=\"text-align: right;\">\n",
              "      <th></th>\n",
              "      <th>Open</th>\n",
              "      <th>High</th>\n",
              "      <th>Low</th>\n",
              "      <th>Close</th>\n",
              "      <th>Adj Close</th>\n",
              "      <th>Volume</th>\n",
              "    </tr>\n",
              "    <tr>\n",
              "      <th>Date</th>\n",
              "      <th></th>\n",
              "      <th></th>\n",
              "      <th></th>\n",
              "      <th></th>\n",
              "      <th></th>\n",
              "      <th></th>\n",
              "    </tr>\n",
              "  </thead>\n",
              "  <tbody>\n",
              "    <tr>\n",
              "      <th>2020-12-22</th>\n",
              "      <td>25.290001</td>\n",
              "      <td>25.420000</td>\n",
              "      <td>24.850000</td>\n",
              "      <td>25.160000</td>\n",
              "      <td>25.115610</td>\n",
              "      <td>25236200</td>\n",
              "    </tr>\n",
              "    <tr>\n",
              "      <th>2020-12-23</th>\n",
              "      <td>25.250000</td>\n",
              "      <td>25.629999</td>\n",
              "      <td>24.969999</td>\n",
              "      <td>24.969999</td>\n",
              "      <td>24.925945</td>\n",
              "      <td>20558600</td>\n",
              "    </tr>\n",
              "    <tr>\n",
              "      <th>2020-12-28</th>\n",
              "      <td>24.780001</td>\n",
              "      <td>25.330000</td>\n",
              "      <td>24.400000</td>\n",
              "      <td>25.250000</td>\n",
              "      <td>25.205452</td>\n",
              "      <td>23099100</td>\n",
              "    </tr>\n",
              "    <tr>\n",
              "      <th>2020-12-29</th>\n",
              "      <td>25.230000</td>\n",
              "      <td>25.559999</td>\n",
              "      <td>25.020000</td>\n",
              "      <td>25.280001</td>\n",
              "      <td>25.235399</td>\n",
              "      <td>17789700</td>\n",
              "    </tr>\n",
              "    <tr>\n",
              "      <th>2020-12-30</th>\n",
              "      <td>25.370001</td>\n",
              "      <td>25.660000</td>\n",
              "      <td>24.950001</td>\n",
              "      <td>24.950001</td>\n",
              "      <td>24.931921</td>\n",
              "      <td>19188700</td>\n",
              "    </tr>\n",
              "  </tbody>\n",
              "</table>\n",
              "</div>"
            ],
            "text/plain": [
              "                 Open       High        Low      Close  Adj Close    Volume\n",
              "Date                                                                       \n",
              "2020-12-22  25.290001  25.420000  24.850000  25.160000  25.115610  25236200\n",
              "2020-12-23  25.250000  25.629999  24.969999  24.969999  24.925945  20558600\n",
              "2020-12-28  24.780001  25.330000  24.400000  25.250000  25.205452  23099100\n",
              "2020-12-29  25.230000  25.559999  25.020000  25.280001  25.235399  17789700\n",
              "2020-12-30  25.370001  25.660000  24.950001  24.950001  24.931921  19188700"
            ]
          },
          "metadata": {
            "tags": []
          },
          "execution_count": 5
        }
      ]
    },
    {
      "cell_type": "code",
      "metadata": {
        "colab": {
          "base_uri": "https://localhost:8080/"
        },
        "id": "C2AhShvtZOoA",
        "outputId": "5b29e60c-abd1-4c92-8929-5fa5440077d1"
      },
      "source": [
        "magalu['Retorno Simples'] = (magalu['Adj Close']/magalu['Adj Close'].shift(1)) - 1\n",
        "print(magalu['Retorno Simples'])"
      ],
      "execution_count": null,
      "outputs": [
        {
          "output_type": "stream",
          "text": [
            "Date\n",
            "2011-05-02         NaN\n",
            "2011-05-03   -0.009118\n",
            "2011-05-04    0.011043\n",
            "2011-05-05   -0.006068\n",
            "2011-05-06   -0.007326\n",
            "                ...   \n",
            "2020-12-22    0.006400\n",
            "2020-12-23   -0.007552\n",
            "2020-12-28    0.011213\n",
            "2020-12-29    0.001188\n",
            "2020-12-30   -0.012026\n",
            "Name: Retorno Simples, Length: 2394, dtype: float64\n"
          ],
          "name": "stdout"
        }
      ]
    },
    {
      "cell_type": "markdown",
      "metadata": {
        "id": "Jk51wUlNa3xU"
      },
      "source": [
        "<h3>Gráfico do retorno percentual diário MGLU3.SA (2011 - 2020):</h3>\n",
        "\n",
        "---\n",
        "\n"
      ]
    },
    {
      "cell_type": "code",
      "metadata": {
        "colab": {
          "base_uri": "https://localhost:8080/",
          "height": 387
        },
        "id": "R_SsIDoIaNBK",
        "outputId": "591e8bfb-d11b-49f1-895b-557a7bc81a5a"
      },
      "source": [
        "magalu['Retorno Simples'].plot(figsize=(8,6))"
      ],
      "execution_count": null,
      "outputs": [
        {
          "output_type": "execute_result",
          "data": {
            "text/plain": [
              "<matplotlib.axes._subplots.AxesSubplot at 0x7f7781635210>"
            ]
          },
          "metadata": {
            "tags": []
          },
          "execution_count": 21
        },
        {
          "output_type": "display_data",
          "data": {
            "image/png": "[encoded data removed]",
            "text/plain": [
              "<Figure size 576x432 with 1 Axes>"
            ]
          },
          "metadata": {
            "tags": [],
            "needs_background": "light"
          }
        }
      ]
    },
    {
      "cell_type": "markdown",
      "metadata": {
        "id": "VTq6WyXRbxD-"
      },
      "source": [
        "<h3>Retornos médio diário e anual no período:</h3>"
      ]
    },
    {
      "cell_type": "code",
      "metadata": {
        "colab": {
          "base_uri": "https://localhost:8080/"
        },
        "id": "cm7tcA_ga1GT",
        "outputId": "fa4c06cf-834b-48f4-c7fd-9bc1f88a4fcb"
      },
      "source": [
        "retornoMedioDiario = magalu['Retorno Simples'].mean()\n",
        "retornoMedioDiario"
      ],
      "execution_count": null,
      "outputs": [
        {
          "output_type": "execute_result",
          "data": {
            "text/plain": [
              "0.0023590517951680963"
            ]
          },
          "metadata": {
            "tags": []
          },
          "execution_count": 15
        }
      ]
    },
    {
      "cell_type": "code",
      "metadata": {
        "colab": {
          "base_uri": "https://localhost:8080/"
        },
        "id": "LMA89M92cmAQ",
        "outputId": "c29b81a4-fff1-4548-d6c1-1a71beb730e2"
      },
      "source": [
        "retornoMedioAnual = magalu['Retorno Simples'].mean()*250\n",
        "retornoMedioAnual"
      ],
      "execution_count": null,
      "outputs": [
        {
          "output_type": "execute_result",
          "data": {
            "text/plain": [
              "0.5897629487920241"
            ]
          },
          "metadata": {
            "tags": []
          },
          "execution_count": 16
        }
      ]
    },
    {
      "cell_type": "markdown",
      "metadata": {
        "id": "ZD4uzs6Telsb"
      },
      "source": [
        "Criando o vetor de logaritmos do Retorno:"
      ]
    },
    {
      "cell_type": "code",
      "metadata": {
        "colab": {
          "base_uri": "https://localhost:8080/"
        },
        "id": "EdT9EbM1da59",
        "outputId": "78386460-7631-40a0-94d9-62b0157a7c6d"
      },
      "source": [
        "magalu['Retorno Log'] = np.log(magalu['Adj Close'] / magalu['Adj Close'].shift(1))\n",
        "magalu['Retorno Log'].tail()"
      ],
      "execution_count": null,
      "outputs": [
        {
          "output_type": "execute_result",
          "data": {
            "text/plain": [
              "Date\n",
              "2020-12-22    0.006380\n",
              "2020-12-23   -0.007580\n",
              "2020-12-28    0.011151\n",
              "2020-12-29    0.001187\n",
              "2020-12-30   -0.012099\n",
              "Name: Retorno Log, dtype: float64"
            ]
          },
          "metadata": {
            "tags": []
          },
          "execution_count": 19
        }
      ]
    },
    {
      "cell_type": "markdown",
      "metadata": {
        "id": "6S4wK6EMj8m6"
      },
      "source": [
        "<h3>Variação logaritmica MGLU3.SA:</h3>"
      ]
    },
    {
      "cell_type": "code",
      "metadata": {
        "colab": {
          "base_uri": "https://localhost:8080/",
          "height": 384
        },
        "id": "GGIvevBvewqy",
        "outputId": "9ecd76a1-2bae-4e01-9cd7-4e53f7313f3a"
      },
      "source": [
        "magalu['Retorno Log'].plot(figsize = (8,6))"
      ],
      "execution_count": null,
      "outputs": [
        {
          "output_type": "execute_result",
          "data": {
            "text/plain": [
              "<matplotlib.axes._subplots.AxesSubplot at 0x7f778183c810>"
            ]
          },
          "metadata": {
            "tags": []
          },
          "execution_count": 20
        },
        {
          "output_type": "display_data",
          "data": {
            "image/png": "[encoded data removed]",
            "text/plain": [
              "<Figure size 576x432 with 1 Axes>"
            ]
          },
          "metadata": {
            "tags": [],
            "needs_background": "light"
          }
        }
      ]
    },
    {
      "cell_type": "code",
      "metadata": {
        "colab": {
          "base_uri": "https://localhost:8080/"
        },
        "id": "S12ImYIJg-bo",
        "outputId": "ade7516c-61ae-43fe-f978-a73311730c21"
      },
      "source": [
        "indices = yf.download(\"^GSPC ^BVSP\", start=\"1995-01-03\", end=\"2021-01-01\")['Adj Close']"
      ],
      "execution_count": null,
      "outputs": [
        {
          "output_type": "stream",
          "text": [
            "[*********************100%***********************]  2 of 2 completed\n"
          ],
          "name": "stdout"
        }
      ]
    },
    {
      "cell_type": "code",
      "metadata": {
        "colab": {
          "base_uri": "https://localhost:8080/",
          "height": 235
        },
        "id": "SYvdOZOKhkVT",
        "outputId": "2df8f18d-520e-4d9c-a4e9-9faa1da0c943"
      },
      "source": [
        "indices.head()"
      ],
      "execution_count": null,
      "outputs": [
        {
          "output_type": "execute_result",
          "data": {
            "text/html": [
              "<div>\n",
              "<style scoped>\n",
              "    .dataframe tbody tr th:only-of-type {\n",
              "        vertical-align: middle;\n",
              "    }\n",
              "\n",
              "    .dataframe tbody tr th {\n",
              "        vertical-align: top;\n",
              "    }\n",
              "\n",
              "    .dataframe thead th {\n",
              "        text-align: right;\n",
              "    }\n",
              "</style>\n",
              "<table border=\"1\" class=\"dataframe\">\n",
              "  <thead>\n",
              "    <tr style=\"text-align: right;\">\n",
              "      <th></th>\n",
              "      <th>^BVSP</th>\n",
              "      <th>^GSPC</th>\n",
              "    </tr>\n",
              "    <tr>\n",
              "      <th>Date</th>\n",
              "      <th></th>\n",
              "      <th></th>\n",
              "    </tr>\n",
              "  </thead>\n",
              "  <tbody>\n",
              "    <tr>\n",
              "      <th>1995-01-03</th>\n",
              "      <td>4098.000000</td>\n",
              "      <td>459.109985</td>\n",
              "    </tr>\n",
              "    <tr>\n",
              "      <th>1995-01-04</th>\n",
              "      <td>3967.899902</td>\n",
              "      <td>460.709991</td>\n",
              "    </tr>\n",
              "    <tr>\n",
              "      <th>1995-01-05</th>\n",
              "      <td>4036.699951</td>\n",
              "      <td>460.339996</td>\n",
              "    </tr>\n",
              "    <tr>\n",
              "      <th>1995-01-06</th>\n",
              "      <td>3827.399902</td>\n",
              "      <td>460.679993</td>\n",
              "    </tr>\n",
              "    <tr>\n",
              "      <th>1995-01-09</th>\n",
              "      <td>3627.800049</td>\n",
              "      <td>460.829987</td>\n",
              "    </tr>\n",
              "  </tbody>\n",
              "</table>\n",
              "</div>"
            ],
            "text/plain": [
              "                  ^BVSP       ^GSPC\n",
              "Date                               \n",
              "1995-01-03  4098.000000  459.109985\n",
              "1995-01-04  3967.899902  460.709991\n",
              "1995-01-05  4036.699951  460.339996\n",
              "1995-01-06  3827.399902  460.679993\n",
              "1995-01-09  3627.800049  460.829987"
            ]
          },
          "metadata": {
            "tags": []
          },
          "execution_count": 31
        }
      ]
    },
    {
      "cell_type": "markdown",
      "metadata": {
        "id": "fE0XP1ftjc04"
      },
      "source": [
        "<h3>Gráfico de Variação IBOV E S&P 500, 1995-2021</h3>"
      ]
    },
    {
      "cell_type": "code",
      "metadata": {
        "colab": {
          "base_uri": "https://localhost:8080/",
          "height": 384
        },
        "id": "1TXKMaAki0EY",
        "outputId": "42ab3a3e-d1ae-4ca6-dfb9-31d978b8a674"
      },
      "source": [
        "(indices/indices.iloc[0]*100).plot(figsize=(15,6))"
      ],
      "execution_count": null,
      "outputs": [
        {
          "output_type": "execute_result",
          "data": {
            "text/plain": [
              "<matplotlib.axes._subplots.AxesSubplot at 0x7f7781d29810>"
            ]
          },
          "metadata": {
            "tags": []
          },
          "execution_count": 32
        },
        {
          "output_type": "display_data",
          "data": {
            "image/png": "[encoded data removed]",
            "text/plain": [
              "<Figure size 1080x432 with 1 Axes>"
            ]
          },
          "metadata": {
            "tags": [],
            "needs_background": "light"
          }
        }
      ]
    },
    {
      "cell_type": "code",
      "metadata": {
        "colab": {
          "base_uri": "https://localhost:8080/",
          "height": 235
        },
        "id": "73vIhIpbkrdo",
        "outputId": "4824deca-0336-4990-b679-7104b3138e82"
      },
      "source": [
        "retornoIndice = (indices/indices.shift(1))-1\n",
        "retornoIndice.head()"
      ],
      "execution_count": null,
      "outputs": [
        {
          "output_type": "execute_result",
          "data": {
            "text/html": [
              "<div>\n",
              "<style scoped>\n",
              "    .dataframe tbody tr th:only-of-type {\n",
              "        vertical-align: middle;\n",
              "    }\n",
              "\n",
              "    .dataframe tbody tr th {\n",
              "        vertical-align: top;\n",
              "    }\n",
              "\n",
              "    .dataframe thead th {\n",
              "        text-align: right;\n",
              "    }\n",
              "</style>\n",
              "<table border=\"1\" class=\"dataframe\">\n",
              "  <thead>\n",
              "    <tr style=\"text-align: right;\">\n",
              "      <th></th>\n",
              "      <th>^BVSP</th>\n",
              "      <th>^GSPC</th>\n",
              "    </tr>\n",
              "    <tr>\n",
              "      <th>Date</th>\n",
              "      <th></th>\n",
              "      <th></th>\n",
              "    </tr>\n",
              "  </thead>\n",
              "  <tbody>\n",
              "    <tr>\n",
              "      <th>1995-01-03</th>\n",
              "      <td>NaN</td>\n",
              "      <td>NaN</td>\n",
              "    </tr>\n",
              "    <tr>\n",
              "      <th>1995-01-04</th>\n",
              "      <td>-0.031747</td>\n",
              "      <td>0.003485</td>\n",
              "    </tr>\n",
              "    <tr>\n",
              "      <th>1995-01-05</th>\n",
              "      <td>0.017339</td>\n",
              "      <td>-0.000803</td>\n",
              "    </tr>\n",
              "    <tr>\n",
              "      <th>1995-01-06</th>\n",
              "      <td>-0.051849</td>\n",
              "      <td>0.000739</td>\n",
              "    </tr>\n",
              "    <tr>\n",
              "      <th>1995-01-09</th>\n",
              "      <td>-0.052150</td>\n",
              "      <td>0.000326</td>\n",
              "    </tr>\n",
              "  </tbody>\n",
              "</table>\n",
              "</div>"
            ],
            "text/plain": [
              "               ^BVSP     ^GSPC\n",
              "Date                          \n",
              "1995-01-03       NaN       NaN\n",
              "1995-01-04 -0.031747  0.003485\n",
              "1995-01-05  0.017339 -0.000803\n",
              "1995-01-06 -0.051849  0.000739\n",
              "1995-01-09 -0.052150  0.000326"
            ]
          },
          "metadata": {
            "tags": []
          },
          "execution_count": 33
        }
      ]
    },
    {
      "cell_type": "code",
      "metadata": {
        "colab": {
          "base_uri": "https://localhost:8080/"
        },
        "id": "kMlWSj29lexb",
        "outputId": "9ce6e9be-8371-41b5-d11f-b1f0a12bee91"
      },
      "source": [
        "dados = yf.download(\"MGLU3.SA ^GSPC ^BVSP\", start=\"2017-01-03\", end=\"2021-01-01\")['Adj Close']"
      ],
      "execution_count": null,
      "outputs": [
        {
          "output_type": "stream",
          "text": [
            "[*********************100%***********************]  3 of 3 completed\n"
          ],
          "name": "stdout"
        }
      ]
    },
    {
      "cell_type": "code",
      "metadata": {
        "colab": {
          "base_uri": "https://localhost:8080/",
          "height": 235
        },
        "id": "cWvhDpWbl_zx",
        "outputId": "6d4f0966-e6af-4db7-d717-f370eb52395c"
      },
      "source": [
        "dados.head()"
      ],
      "execution_count": null,
      "outputs": [
        {
          "output_type": "execute_result",
          "data": {
            "text/html": [
              "<div>\n",
              "<style scoped>\n",
              "    .dataframe tbody tr th:only-of-type {\n",
              "        vertical-align: middle;\n",
              "    }\n",
              "\n",
              "    .dataframe tbody tr th {\n",
              "        vertical-align: top;\n",
              "    }\n",
              "\n",
              "    .dataframe thead th {\n",
              "        text-align: right;\n",
              "    }\n",
              "</style>\n",
              "<table border=\"1\" class=\"dataframe\">\n",
              "  <thead>\n",
              "    <tr style=\"text-align: right;\">\n",
              "      <th></th>\n",
              "      <th>MGLU3.SA</th>\n",
              "      <th>^BVSP</th>\n",
              "      <th>^GSPC</th>\n",
              "    </tr>\n",
              "    <tr>\n",
              "      <th>Date</th>\n",
              "      <th></th>\n",
              "      <th></th>\n",
              "      <th></th>\n",
              "    </tr>\n",
              "  </thead>\n",
              "  <tbody>\n",
              "    <tr>\n",
              "      <th>2017-01-03</th>\n",
              "      <td>0.378047</td>\n",
              "      <td>61814.0</td>\n",
              "      <td>2257.830078</td>\n",
              "    </tr>\n",
              "    <tr>\n",
              "      <th>2017-01-04</th>\n",
              "      <td>0.357915</td>\n",
              "      <td>61589.0</td>\n",
              "      <td>2270.750000</td>\n",
              "    </tr>\n",
              "    <tr>\n",
              "      <th>2017-01-05</th>\n",
              "      <td>0.370218</td>\n",
              "      <td>62071.0</td>\n",
              "      <td>2269.000000</td>\n",
              "    </tr>\n",
              "    <tr>\n",
              "      <th>2017-01-06</th>\n",
              "      <td>0.367832</td>\n",
              "      <td>61665.0</td>\n",
              "      <td>2276.979980</td>\n",
              "    </tr>\n",
              "    <tr>\n",
              "      <th>2017-01-09</th>\n",
              "      <td>0.351092</td>\n",
              "      <td>61700.0</td>\n",
              "      <td>2268.899902</td>\n",
              "    </tr>\n",
              "  </tbody>\n",
              "</table>\n",
              "</div>"
            ],
            "text/plain": [
              "            MGLU3.SA    ^BVSP        ^GSPC\n",
              "Date                                      \n",
              "2017-01-03  0.378047  61814.0  2257.830078\n",
              "2017-01-04  0.357915  61589.0  2270.750000\n",
              "2017-01-05  0.370218  62071.0  2269.000000\n",
              "2017-01-06  0.367832  61665.0  2276.979980\n",
              "2017-01-09  0.351092  61700.0  2268.899902"
            ]
          },
          "metadata": {
            "tags": []
          },
          "execution_count": 55
        }
      ]
    },
    {
      "cell_type": "markdown",
      "metadata": {
        "id": "9HLQeCdqqNa8"
      },
      "source": [
        "<h3>Gráfico comparativo MGLU3.SA x Índices IBOVESPA e S&P500 (2017 - 2020)</h3>"
      ]
    },
    {
      "cell_type": "code",
      "metadata": {
        "colab": {
          "base_uri": "https://localhost:8080/",
          "height": 392
        },
        "id": "GxTnxcxdmxYO",
        "outputId": "d3873720-7502-44cb-b6d2-955a7745ba2b"
      },
      "source": [
        "(dados/dados.iloc[0]*100).plot(figsize=(15,6))"
      ],
      "execution_count": null,
      "outputs": [
        {
          "output_type": "execute_result",
          "data": {
            "text/plain": [
              "<matplotlib.axes._subplots.AxesSubplot at 0x7f777f8f05d0>"
            ]
          },
          "metadata": {
            "tags": []
          },
          "execution_count": 56
        },
        {
          "output_type": "display_data",
          "data": {
            "image/png": "[encoded data removed]",
            "text/plain": [
              "<Figure size 1080x432 with 1 Axes>"
            ]
          },
          "metadata": {
            "tags": [],
            "needs_background": "light"
          }
        }
      ]
    },
    {
      "cell_type": "markdown",
      "metadata": {
        "id": "XxJISwULqv3J"
      },
      "source": [
        "A ação da Magazine Luiza destoa amplamente do índice de ações americano S&P 500 e do próprio índice que a contém, o IBOVESPA, apresentando assim um grande retorno relativo no período analisado.\n",
        "\n",
        "OBS.: Usei os dados a partir de 2017 pois no período anterior os valores relativos da ação eram nulos."
      ]
    }
  ]
}